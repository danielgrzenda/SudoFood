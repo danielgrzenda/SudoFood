{
 "cells": [
  {
   "cell_type": "code",
   "execution_count": 19,
   "metadata": {
    "collapsed": true
   },
   "outputs": [],
   "source": [
    "import boto3\n",
    "import pandas as pd\n",
    "import gensim\n",
    "from gensim.models import Word2Vec\n",
    "from sklearn.feature_extraction.text import TfidfVectorizer\n",
    "import json\n",
    "import string"
   ]
  },
  {
   "cell_type": "code",
   "execution_count": 13,
   "metadata": {
    "scrolled": true
   },
   "outputs": [
    {
     "name": "stdout",
     "output_type": "stream",
     "text": [
      "s3.ObjectSummary(bucket_name='sudofood', key=u'recipe_ids.txt')\n",
      "s3.ObjectSummary(bucket_name='sudofood', key=u'recipes/')\n",
      "s3.ObjectSummary(bucket_name='sudofood', key=u'recipes/recipe_json0.json')\n",
      "s3.ObjectSummary(bucket_name='sudofood', key=u'recipes/recipe_json1000.json')\n",
      "s3.ObjectSummary(bucket_name='sudofood', key=u'recipes/recipe_json10000.json')\n",
      "s3.ObjectSummary(bucket_name='sudofood', key=u'recipes/recipe_json11000.json')\n",
      "s3.ObjectSummary(bucket_name='sudofood', key=u'recipes/recipe_json12000.json')\n",
      "s3.ObjectSummary(bucket_name='sudofood', key=u'recipes/recipe_json13000.json')\n",
      "s3.ObjectSummary(bucket_name='sudofood', key=u'recipes/recipe_json14000.json')\n",
      "s3.ObjectSummary(bucket_name='sudofood', key=u'recipes/recipe_json15000.json')\n",
      "s3.ObjectSummary(bucket_name='sudofood', key=u'recipes/recipe_json16000.json')\n",
      "s3.ObjectSummary(bucket_name='sudofood', key=u'recipes/recipe_json17000.json')\n",
      "s3.ObjectSummary(bucket_name='sudofood', key=u'recipes/recipe_json18000.json')\n",
      "s3.ObjectSummary(bucket_name='sudofood', key=u'recipes/recipe_json19000.json')\n",
      "s3.ObjectSummary(bucket_name='sudofood', key=u'recipes/recipe_json2000.json')\n",
      "s3.ObjectSummary(bucket_name='sudofood', key=u'recipes/recipe_json3000.json')\n",
      "s3.ObjectSummary(bucket_name='sudofood', key=u'recipes/recipe_json4000.json')\n",
      "s3.ObjectSummary(bucket_name='sudofood', key=u'recipes/recipe_json5000.json')\n",
      "s3.ObjectSummary(bucket_name='sudofood', key=u'recipes/recipe_json6000.json')\n",
      "s3.ObjectSummary(bucket_name='sudofood', key=u'recipes/recipe_json7000.json')\n",
      "s3.ObjectSummary(bucket_name='sudofood', key=u'recipes/recipe_json8000.json')\n",
      "s3.ObjectSummary(bucket_name='sudofood', key=u'recipes/recipe_json9000.json')\n"
     ]
    }
   ],
   "source": [
    "def get_ingredients(bucket_name):\n",
    "    s3 = boto3.resource('s3')\n",
    "    bucket = s3.Bucket(bucket_name)\n",
    "    ingredients = []\n",
    "    recipe_id = []\n",
    "    for obj in bucket.objects.all():\n",
    "        print obj\n",
    "        key = obj.key\n",
    "        if key.endswith('json'):\n",
    "            body = obj.get()['Body'].read()\n",
    "            data = json.loads(body)\n",
    "            for j in range(len(data)):\n",
    "                try:\n",
    "                    recipe = json.loads(data[j])\n",
    "                    ingredients.append(recipe['ingredientLines'])\n",
    "                    recipe_id.append(recipe['id'])\n",
    "                except:\n",
    "                    continue\n",
    "    return (recipe_id,ingredients)\n",
    "            \n",
    "recipe_id, ingredients = get_ingredients('sudofood')\n",
    "      \n",
    "        "
   ]
  },
  {
   "cell_type": "code",
   "execution_count": 28,
   "metadata": {
    "collapsed": true
   },
   "outputs": [],
   "source": [
    "global ingredients "
   ]
  },
  {
   "cell_type": "code",
   "execution_count": 14,
   "metadata": {
    "collapsed": true
   },
   "outputs": [],
   "source": [
    "words = [x.encode('utf-8','ignore').split(' ')  for item in ingredients for x in item]\n",
    "words = [x.decode(\"utf8\") for item in words for x in item]"
   ]
  },
  {
   "cell_type": "code",
   "execution_count": 15,
   "metadata": {},
   "outputs": [
    {
     "data": {
      "text/plain": [
       "1182035"
      ]
     },
     "execution_count": 15,
     "metadata": {},
     "output_type": "execute_result"
    }
   ],
   "source": [
    "len(c)"
   ]
  },
  {
   "cell_type": "code",
   "execution_count": 16,
   "metadata": {
    "collapsed": true
   },
   "outputs": [],
   "source": [
    "import re\n",
    "ENGLISH_STOP_WORDS = frozenset([\n",
    "    \"a\", \"about\", \"above\", \"across\", \"after\", \"afterwards\", \"again\", \"against\",\n",
    "    \"all\", \"almost\", \"alone\", \"along\", \"already\", \"also\", \"although\", \"always\",\n",
    "    \"am\", \"among\", \"amongst\", \"amoungst\", \"amount\", \"an\", \"and\", \"another\",\n",
    "    \"any\", \"anyhow\", \"anyone\", \"anything\", \"anyway\", \"anywhere\", \"are\",\n",
    "    \"around\", \"as\", \"at\", \"back\", \"be\", \"became\", \"because\", \"become\",\n",
    "    \"becomes\", \"becoming\", \"been\", \"before\", \"beforehand\", \"behind\", \"being\",\n",
    "    \"below\", \"beside\", \"besides\", \"between\", \"beyond\", \"bill\", \"both\",\n",
    "    \"bottom\", \"but\", \"by\", \"call\", \"can\", \"cannot\", \"cant\", \"co\", \"con\",\n",
    "    \"could\", \"couldnt\", \"cry\", \"de\", \"describe\", \"detail\", \"do\", \"done\",\n",
    "    \"down\", \"due\", \"during\", \"each\", \"eg\", \"eight\", \"either\", \"eleven\", \"else\",\n",
    "    \"elsewhere\", \"empty\", \"enough\", \"etc\", \"even\", \"ever\", \"every\", \"everyone\",\n",
    "    \"everything\", \"everywhere\", \"except\", \"few\", \"fifteen\", \"fifty\", \"fill\",\n",
    "    \"find\", \"fire\", \"first\", \"five\", \"for\", \"former\", \"formerly\", \"forty\",\n",
    "    \"found\", \"four\", \"from\", \"front\", \"full\", \"further\", \"get\", \"give\", \"go\",\n",
    "    \"had\", \"has\", \"hasnt\", \"have\", \"he\", \"hence\", \"her\", \"here\", \"hereafter\",\n",
    "    \"hereby\", \"herein\", \"hereupon\", \"hers\", \"herself\", \"him\", \"himself\", \"his\",\n",
    "    \"how\", \"however\", \"hundred\", \"i\", \"ie\", \"if\", \"in\", \"inc\", \"indeed\",\n",
    "    \"interest\", \"into\", \"is\", \"it\", \"its\", \"itself\", \"keep\", \"last\", \"latter\",\n",
    "    \"latterly\", \"least\", \"less\", \"ltd\", \"made\", \"many\", \"may\", \"me\",\n",
    "    \"meanwhile\", \"might\", \"mill\", \"mine\", \"more\", \"moreover\", \"most\", \"mostly\",\n",
    "    \"move\", \"much\", \"must\", \"my\", \"myself\", \"name\", \"namely\", \"neither\",\n",
    "    \"never\", \"nevertheless\", \"next\", \"nine\", \"no\", \"nobody\", \"none\", \"noone\",\n",
    "    \"nor\", \"not\", \"nothing\", \"now\", \"nowhere\", \"of\", \"off\", \"often\", \"on\",\n",
    "    \"once\", \"one\", \"only\", \"onto\", \"or\", \"other\", \"others\", \"otherwise\", \"our\",\n",
    "    \"ours\", \"ourselves\", \"out\", \"over\", \"own\", \"part\", \"per\", \"perhaps\",\n",
    "    \"please\", \"put\", \"rather\", \"re\", \"same\", \"see\", \"seem\", \"seemed\",\n",
    "    \"seeming\", \"seems\", \"serious\", \"several\", \"she\", \"should\", \"show\", \"side\",\n",
    "    \"since\", \"sincere\", \"six\", \"sixty\", \"so\", \"some\", \"somehow\", \"someone\",\n",
    "    \"something\", \"sometime\", \"sometimes\", \"somewhere\", \"still\", \"such\",\n",
    "    \"system\", \"take\", \"ten\", \"than\", \"that\", \"the\", \"their\", \"them\",\n",
    "    \"themselves\", \"then\", \"thence\", \"there\", \"thereafter\", \"thereby\",\n",
    "    \"therefore\", \"therein\", \"thereupon\", \"these\", \"they\", \"thick\", \"thin\",\n",
    "    \"third\", \"this\", \"those\", \"though\", \"three\", \"through\", \"throughout\",\n",
    "    \"thru\", \"thus\", \"to\", \"together\", \"too\", \"top\", \"toward\", \"towards\",\n",
    "    \"twelve\", \"twenty\", \"two\", \"un\", \"under\", \"until\", \"up\", \"upon\", \"us\",\n",
    "    \"very\", \"via\", \"was\", \"we\", \"well\", \"were\", \"what\", \"whatever\", \"when\",\n",
    "    \"whence\", \"whenever\", \"where\", \"whereafter\", \"whereas\", \"whereby\",\n",
    "    \"wherein\", \"whereupon\", \"wherever\", \"whether\", \"which\", \"while\", \"whither\",\n",
    "    \"who\", \"whoever\", \"whole\", \"whom\", \"whose\", \"why\", \"will\", \"with\",\n",
    "    \"within\", \"without\", \"would\", \"yet\", \"you\", \"your\", \"yours\", \"yourself\",\n",
    "    \"yourselves\", \"\\xc2\\xbc\", \"\\xc2\\xbd\", \"cup\", \"cups\",\"ounces\",\"ounce\",\n",
    "    \"teaspoon\", \"tablespoon\", \"tablespoons\", \"teaspoons\"])\n",
    "\n",
    "\n",
    "\n",
    "def tokeniser(text):\n",
    "    regex = re.compile('[' + re.escape(string.punctuation) + '0-9\\\\r\\\\t\\\\n]')\n",
    "    text = regex.sub(\" \", text.lower())\n",
    "    words = text.encode('utf-8').split(\" \")\n",
    "    words = [w for w in words if not len(w) < 2]\n",
    "    words = [w for w in words if w not in ENGLISH_STOP_WORDS]\n",
    "    return words"
   ]
  },
  {
   "cell_type": "code",
   "execution_count": 25,
   "metadata": {},
   "outputs": [],
   "source": [
    "tfidf = TfidfVectorizer(tokenizer = tokeniser, stop_words = ENGLISH_STOP_WORDS).fit(c)\n",
    "def cosine_sim(text1, text2):\n",
    "   tfidf = TfidfVectorizer().fit_transform([text1, text2])\n",
    "   return ((tfidf * tfidf.T).A)[0,1]\n"
   ]
  },
  {
   "cell_type": "code",
   "execution_count": 29,
   "metadata": {
    "collapsed": true
   },
   "outputs": [],
   "source": [
    "def recommend_recipes(new_recipe):\n",
    "    cos = []\n",
    "    recommended_recipes = []\n",
    "    for i in range(len(ingredients)):\n",
    "        cos.append(cosine_sim(new_recipe,','.join([string.encode('utf-8','ignore') for string in ingredients[i]])))\n",
    "    for j in sorted(range(len(cos)), key=lambda i: cos[i])[-10:]:\n",
    "        recommended_recipes.append(recipe_id[j])\n",
    "    return recommended_recipes"
   ]
  },
  {
   "cell_type": "code",
   "execution_count": 30,
   "metadata": {
    "scrolled": true
   },
   "outputs": [
    {
     "data": {
      "text/plain": [
       "[u'Kung-pao-chicken-365170',\n",
       " u'Uncle-Lang_s-Three-Teacup-Chicken-777345',\n",
       " u'Slow-Cooked-Chicken-And-Rice-Casserole-Recipezaar',\n",
       " u'Slow-Cooker-Chicken_-Broccoli_-and-Rice-1246935',\n",
       " u'Chicken-Poppy-Seed-Rice-Bake-2321222',\n",
       " u'Japgokbap-1283394',\n",
       " u'Mexican-style-Rice-632067',\n",
       " u'Chicken-Rice-a-Roni-Casserole-1100935',\n",
       " u'Slow-Cooker-Herbs-de-Provence-Chicken-_-Rice-Soup-478367',\n",
       " u'Cornell-Chicken-Barbecue-Sauce-History-and-2083272']"
      ]
     },
     "execution_count": 30,
     "metadata": {},
     "output_type": "execute_result"
    }
   ],
   "source": [
    "recommend_recipes('Chicken Rice')"
   ]
  },
  {
   "cell_type": "code",
   "execution_count": 31,
   "metadata": {},
   "outputs": [
    {
     "data": {
      "text/plain": [
       "[u'Easy-Grilled-Pizza-551252',\n",
       " u'Grilled-Spinach-and-Feta-Stuffed-Mushrooms-1238290',\n",
       " u'All-In-One-Broccoli-Macaroni-and-Cheese-Food_com-125549',\n",
       " u'Broccoli-Bread-Recipezaar_1',\n",
       " u'Three-Cheese-Macaroni-and-Cheese-1638048',\n",
       " u'Pork-Tacos-_-Crispy-Like-Carnitas_-Food_com-119191',\n",
       " u'World_s-Best-Mac-_-Cheese-543687',\n",
       " u'Italian-Chicken-Roll-Ups-439628',\n",
       " u'Mac-and-cheese-lasagna-370318',\n",
       " u'Pumpkin-Mac-and-Cheese-1913798']"
      ]
     },
     "execution_count": 31,
     "metadata": {},
     "output_type": "execute_result"
    }
   ],
   "source": [
    "recommend_recipes('Mac and Cheese')"
   ]
  },
  {
   "cell_type": "markdown",
   "metadata": {},
   "source": [
    "# Creating a dataframe"
   ]
  },
  {
   "cell_type": "code",
   "execution_count": 37,
   "metadata": {},
   "outputs": [
    {
     "data": {
      "text/html": [
       "<div>\n",
       "<style>\n",
       "    .dataframe thead tr:only-child th {\n",
       "        text-align: right;\n",
       "    }\n",
       "\n",
       "    .dataframe thead th {\n",
       "        text-align: left;\n",
       "    }\n",
       "\n",
       "    .dataframe tbody tr th {\n",
       "        vertical-align: top;\n",
       "    }\n",
       "</style>\n",
       "<table border=\"1\" class=\"dataframe\">\n",
       "  <thead>\n",
       "    <tr style=\"text-align: right;\">\n",
       "      <th></th>\n",
       "      <th>Recipe Name</th>\n",
       "      <th>Nutrition</th>\n",
       "      <th>Flavors</th>\n",
       "      <th>Servings</th>\n",
       "    </tr>\n",
       "  </thead>\n",
       "  <tbody>\n",
       "  </tbody>\n",
       "</table>\n",
       "</div>"
      ],
      "text/plain": [
       "Empty DataFrame\n",
       "Columns: [Recipe Name, Nutrition, Flavors, Servings]\n",
       "Index: []"
      ]
     },
     "execution_count": 37,
     "metadata": {},
     "output_type": "execute_result"
    }
   ],
   "source": [
    "df = pd.DataFrame(columns = ['Recipe Name', 'Nutrition', 'Flavors','Servings'])\n",
    "df"
   ]
  },
  {
   "cell_type": "code",
   "execution_count": 54,
   "metadata": {},
   "outputs": [],
   "source": [
    "def create_dataframe(df,bucket_name):\n",
    "    s3 = boto3.resource('s3')\n",
    "    bucket = s3.Bucket(bucket_name)\n",
    "    recipe_id = []\n",
    "    nutrition  = []\n",
    "    flavors = []\n",
    "    servings = []\n",
    "    for obj in bucket.objects.all():\n",
    "        #print obj\n",
    "        key = obj.key\n",
    "        if key.endswith('json'):\n",
    "            body = obj.get()['Body'].read()\n",
    "            data = json.loads(body)\n",
    "            for j in range(len(data)):\n",
    "                try:\n",
    "                    recipe = json.loads(data[j])\n",
    "                    recipe_id.append(recipe['id'])\n",
    "                    nutrition.append(recipe['nutritionEstimates'])\n",
    "                    flavors.append(recipe['flavors'])\n",
    "                    servings.append(recipe['numberOfServings'])\n",
    "                except:\n",
    "                    continue\n",
    "    df = pd.DataFrame(columns = ['recipe_id', 'nutrition', 'flavors', 'servings'])\n",
    "    df['recipe_id'] = recipe_id\n",
    "    df['nutrition'] = nutrition\n",
    "    df['flavors'] = flavors\n",
    "    df['servings'] = servings\n",
    "    return (df)"
   ]
  },
  {
   "cell_type": "code",
   "execution_count": 55,
   "metadata": {},
   "outputs": [],
   "source": [
    "df = create_dataframe(df, 'sudofood')"
   ]
  },
  {
   "cell_type": "code",
   "execution_count": 56,
   "metadata": {},
   "outputs": [
    {
     "data": {
      "text/html": [
       "<div>\n",
       "<style>\n",
       "    .dataframe thead tr:only-child th {\n",
       "        text-align: right;\n",
       "    }\n",
       "\n",
       "    .dataframe thead th {\n",
       "        text-align: left;\n",
       "    }\n",
       "\n",
       "    .dataframe tbody tr th {\n",
       "        vertical-align: top;\n",
       "    }\n",
       "</style>\n",
       "<table border=\"1\" class=\"dataframe\">\n",
       "  <thead>\n",
       "    <tr style=\"text-align: right;\">\n",
       "      <th></th>\n",
       "      <th>recipe_id</th>\n",
       "      <th>nutrition</th>\n",
       "      <th>flavors</th>\n",
       "      <th>servings</th>\n",
       "    </tr>\n",
       "  </thead>\n",
       "  <tbody>\n",
       "    <tr>\n",
       "      <th>0</th>\n",
       "      <td>Crock-Pot-Mexican-Chicken-Recipezaar_2</td>\n",
       "      <td>[{u'attribute': u'FAT_KCAL', u'unit': {u'name'...</td>\n",
       "      <td>{}</td>\n",
       "      <td>8.0</td>\n",
       "    </tr>\n",
       "    <tr>\n",
       "      <th>1</th>\n",
       "      <td>Oreo-Truffle-Holiday-Ornaments-1966411</td>\n",
       "      <td>[{u'attribute': u'FAT_KCAL', u'unit': {u'name'...</td>\n",
       "      <td>{u'Piquant': 0.0, u'Sour': 0.0, u'Salty': 0.83...</td>\n",
       "      <td>4.0</td>\n",
       "    </tr>\n",
       "    <tr>\n",
       "      <th>2</th>\n",
       "      <td>Frozen-Cucumber-Strawberry-Margaritas-1696233</td>\n",
       "      <td>[{u'attribute': u'CAFFN', u'unit': {u'name': u...</td>\n",
       "      <td>{u'Piquant': 0.0, u'Sour': 0.8333, u'Salty': 0...</td>\n",
       "      <td>4.0</td>\n",
       "    </tr>\n",
       "    <tr>\n",
       "      <th>3</th>\n",
       "      <td>Barbecue-Beef-Ribs-1273893</td>\n",
       "      <td>[{u'attribute': u'FAT_KCAL', u'unit': {u'name'...</td>\n",
       "      <td>{u'Piquant': 0.8333, u'Sour': 0.1667, u'Salty'...</td>\n",
       "      <td>5.0</td>\n",
       "    </tr>\n",
       "    <tr>\n",
       "      <th>4</th>\n",
       "      <td>General-Tso_s-Chicken-1587090</td>\n",
       "      <td>[{u'attribute': u'FAT_KCAL', u'unit': {u'name'...</td>\n",
       "      <td>{u'Piquant': 0.1667, u'Sour': 0.1667, u'Salty'...</td>\n",
       "      <td>4.0</td>\n",
       "    </tr>\n",
       "  </tbody>\n",
       "</table>\n",
       "</div>"
      ],
      "text/plain": [
       "                                       recipe_id  \\\n",
       "0         Crock-Pot-Mexican-Chicken-Recipezaar_2   \n",
       "1         Oreo-Truffle-Holiday-Ornaments-1966411   \n",
       "2  Frozen-Cucumber-Strawberry-Margaritas-1696233   \n",
       "3                     Barbecue-Beef-Ribs-1273893   \n",
       "4                  General-Tso_s-Chicken-1587090   \n",
       "\n",
       "                                           nutrition  \\\n",
       "0  [{u'attribute': u'FAT_KCAL', u'unit': {u'name'...   \n",
       "1  [{u'attribute': u'FAT_KCAL', u'unit': {u'name'...   \n",
       "2  [{u'attribute': u'CAFFN', u'unit': {u'name': u...   \n",
       "3  [{u'attribute': u'FAT_KCAL', u'unit': {u'name'...   \n",
       "4  [{u'attribute': u'FAT_KCAL', u'unit': {u'name'...   \n",
       "\n",
       "                                             flavors  servings  \n",
       "0                                                 {}       8.0  \n",
       "1  {u'Piquant': 0.0, u'Sour': 0.0, u'Salty': 0.83...       4.0  \n",
       "2  {u'Piquant': 0.0, u'Sour': 0.8333, u'Salty': 0...       4.0  \n",
       "3  {u'Piquant': 0.8333, u'Sour': 0.1667, u'Salty'...       5.0  \n",
       "4  {u'Piquant': 0.1667, u'Sour': 0.1667, u'Salty'...       4.0  "
      ]
     },
     "execution_count": 56,
     "metadata": {},
     "output_type": "execute_result"
    }
   ],
   "source": [
    "df.head()"
   ]
  },
  {
   "cell_type": "code",
   "execution_count": null,
   "metadata": {
    "collapsed": true
   },
   "outputs": [],
   "source": []
  }
 ],
 "metadata": {
  "kernelspec": {
   "display_name": "Python 2",
   "language": "python",
   "name": "python2"
  },
  "language_info": {
   "codemirror_mode": {
    "name": "ipython",
    "version": 2
   },
   "file_extension": ".py",
   "mimetype": "text/x-python",
   "name": "python",
   "nbconvert_exporter": "python",
   "pygments_lexer": "ipython2",
   "version": "2.7.13"
  }
 },
 "nbformat": 4,
 "nbformat_minor": 2
}
